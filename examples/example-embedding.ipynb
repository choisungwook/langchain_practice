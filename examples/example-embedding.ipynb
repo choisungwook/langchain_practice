{
 "cells": [
  {
   "cell_type": "markdown",
   "metadata": {},
   "source": [
    "# PDF 문서를 읽어 chunk"
   ]
  },
  {
   "cell_type": "code",
   "execution_count": 2,
   "metadata": {},
   "outputs": [],
   "source": [
    "from langchain.document_loaders import PyPDFLoader\n",
    "loader = PyPDFLoader(\"./PDFS/sample-statement-of-work.pdf\")\n",
    "doc = loader.load()"
   ]
  },
  {
   "cell_type": "code",
   "execution_count": 3,
   "metadata": {},
   "outputs": [
    {
     "data": {
      "text/plain": [
       "9"
      ]
     },
     "execution_count": 3,
     "metadata": {},
     "output_type": "execute_result"
    }
   ],
   "source": [
    "len(doc)"
   ]
  },
  {
   "cell_type": "code",
   "execution_count": 4,
   "metadata": {},
   "outputs": [],
   "source": [
    "from langchain.text_splitter import RecursiveCharacterTextSplitter\n",
    "text_splitter = RecursiveCharacterTextSplitter(\n",
    "  chunk_size = 400,\n",
    "  chunk_overlap  = 100,\n",
    "  length_function = len,\n",
    ")\n",
    "chunks = text_splitter.split_documents(doc)"
   ]
  },
  {
   "cell_type": "code",
   "execution_count": 5,
   "metadata": {},
   "outputs": [
    {
     "data": {
      "text/plain": [
       "60"
      ]
     },
     "execution_count": 5,
     "metadata": {},
     "output_type": "execute_result"
    }
   ],
   "source": [
    "len(chunks)"
   ]
  },
  {
   "cell_type": "markdown",
   "metadata": {},
   "source": [
    "# Embedding"
   ]
  },
  {
   "cell_type": "code",
   "execution_count": 6,
   "metadata": {},
   "outputs": [],
   "source": [
    "from langchain.embeddings import HuggingFaceEmbeddings\n",
    "\n",
    "embeddings = HuggingFaceEmbeddings(\n",
    "  model_name=\"BAAI/bge-small-en\",\n",
    "  model_kwargs={'device': 'cpu'},\n",
    "  encode_kwargs={'normalize_embeddings': True}\n",
    ")"
   ]
  },
  {
   "cell_type": "code",
   "execution_count": 11,
   "metadata": {},
   "outputs": [],
   "source": [
    "from langchain.vectorstores import Chroma\n",
    "\n",
    "vector_db = Chroma.from_documents(\n",
    "  documents=chunks,\n",
    "  embedding=embeddings,\n",
    "  persist_directory=\"./vectorstore/example-embedding\",\n",
    ")\n",
    "\n",
    "# jupyter를 사용하면 persist()함수를 호출해야 함\n",
    "# reference: https://stackoverflow.com/questions/77231763/cannot-load-persisted-db-using-chroma-langchain\n",
    "vector_db.persist()"
   ]
  },
  {
   "cell_type": "code",
   "execution_count": 8,
   "metadata": {},
   "outputs": [],
   "source": [
    "query = \"The Customer’s IT organization\"\n",
    "docs = vector_db.similarity_search_with_score(query)"
   ]
  },
  {
   "cell_type": "code",
   "execution_count": 9,
   "metadata": {},
   "outputs": [
    {
     "data": {
      "text/plain": [
       "[(Document(page_content='Page 7 of 9 \\n SAMPLE STATEMENT OF WORK  \\nTechnology Assumptions  \\n1. The Customer’s IT organization is responsible for workstation compliance to Globex  \\nminimum requirements and any  pre-installation activities (if applicable).  \\n2. Customer is responsible for the purchase and installation of any third -party', metadata={'source': './PDFS/sample-statement-of-work.pdf', 'page': 6}),\n",
       "  0.29618027806282043),\n",
       " (Document(page_content='The Customer will designate one person to serve  as Project Manager .  The Customer’s \\nproject manager  will have authority to approve project -related services and may designate \\nother individuals to act as project manager s, subject -matter experts, and /or advisors  during \\nthe engagement .  The Customer  will be responsible for the quality and timeliness of work', metadata={'source': './PDFS/sample-statement-of-work.pdf', 'page': 3}),\n",
       "  0.3413243889808655),\n",
       " (Document(page_content='• Network Appliance setup/troubleshooting  \\n• Web Server set -up and troubleshooting  \\n• Remote Access Customer/server configuration  \\n• Windows and/or any othe r OS Installation', metadata={'source': './PDFS/sample-statement-of-work.pdf', 'page': 6}),\n",
       "  0.3435404896736145),\n",
       " (Document(page_content='documenting the project materials and schedule . \\n8. Customer  will be responsible for the scheduling, availability, quality, and timeliness \\nof work its resources perform.  Any schedule  delays that result are subject to the \\nbillable rate illustrated in this document.  \\n9. Client will be responsible for any acceptance testing against its business', metadata={'source': './PDFS/sample-statement-of-work.pdf', 'page': 5}),\n",
       "  0.3444104790687561)]"
      ]
     },
     "execution_count": 9,
     "metadata": {},
     "output_type": "execute_result"
    }
   ],
   "source": [
    "docs"
   ]
  },
  {
   "cell_type": "code",
   "execution_count": 10,
   "metadata": {},
   "outputs": [
    {
     "data": {
      "text/plain": [
       "[Document(page_content='Page 7 of 9 \\n SAMPLE STATEMENT OF WORK  \\nTechnology Assumptions  \\n1. The Customer’s IT organization is responsible for workstation compliance to Globex  \\nminimum requirements and any  pre-installation activities (if applicable).  \\n2. Customer is responsible for the purchase and installation of any third -party', metadata={'source': './PDFS/sample-statement-of-work.pdf', 'page': 6}),\n",
       " Document(page_content='Deliverable 4  Administration Support  4 € 4,800  \\nDeliverable 5  Custom Report  6 € 7,200  \\nTOTAL:  28 € 33,600', metadata={'source': './PDFS/sample-statement-of-work.pdf', 'page': 7}),\n",
       " Document(page_content='• Network Appliance setup/troubleshooting  \\n• Web Server set -up and troubleshooting  \\n• Remote Access Customer/server configuration  \\n• Windows and/or any othe r OS Installation', metadata={'source': './PDFS/sample-statement-of-work.pdf', 'page': 6}),\n",
       " Document(page_content='Distribution List  ................................ ................................ ................................ .........................  1 \\nBusiness Challenges  ................................ ................................ ................................ .......................  3', metadata={'source': './PDFS/sample-statement-of-work.pdf', 'page': 1})]"
      ]
     },
     "execution_count": 10,
     "metadata": {},
     "output_type": "execute_result"
    }
   ],
   "source": [
    "retriever = vector_db.as_retriever(search_type=\"mmr\")\n",
    "retriever.get_relevant_documents(query)"
   ]
  }
 ],
 "metadata": {
  "kernelspec": {
   "display_name": "venv",
   "language": "python",
   "name": "python3"
  },
  "language_info": {
   "codemirror_mode": {
    "name": "ipython",
    "version": 3
   },
   "file_extension": ".py",
   "mimetype": "text/x-python",
   "name": "python",
   "nbconvert_exporter": "python",
   "pygments_lexer": "ipython3",
   "version": "3.11.4"
  }
 },
 "nbformat": 4,
 "nbformat_minor": 2
}
