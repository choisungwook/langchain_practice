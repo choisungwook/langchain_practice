{
 "cells": [
  {
   "cell_type": "markdown",
   "metadata": {},
   "source": [
    "# PDF파일 로드"
   ]
  },
  {
   "cell_type": "code",
   "execution_count": 1,
   "metadata": {},
   "outputs": [],
   "source": [
    "from langchain.document_loaders import PyPDFLoader\n",
    "loader = PyPDFLoader(\"./PDFS/Concepts.pdf\")\n",
    "pages = loader.load_and_split()"
   ]
  },
  {
   "cell_type": "code",
   "execution_count": 20,
   "metadata": {},
   "outputs": [
    {
     "data": {
      "text/plain": [
       "[Document(page_content='The Concepts section helps you learn about the parts of the Kubernetes system and the\\nabstractions Kubernetes uses to represent your cluster , and helps you obtain a deeper\\nunderstanding of how Kubernetes works.\\nOverview\\nKubernetes is a portable, extensible, open source platform for managing containerized\\nworkloads and services, that facilitates both declarative configuration and automation. It has a\\nlarge, rapidly growing ecosystem. Kubernetes services, support, and tools are widely available.\\nCluster Architecture\\nThe architectural concepts behind Kubernetes.\\nContainers\\nTechnology for packaging an application along with its runtime dependencies.\\nWorkloads\\nUnderstand Pods, the smallest deployable compute object in Kubernetes, and the higher-level\\nabstractions that help you to run them.\\nServices, Load Balancing, and Networking\\nConcepts and resources behind networking in Kubernetes.\\nStorage\\nWays to provide both long-term and temporary storage to Pods in your cluster.\\nConfiguration\\nResources that Kubernetes provides for configuring Pods.\\nSecurity\\nConcepts for keeping your cloud-native workload secure.\\nPolicies\\nManage security and best-practices with policies.\\nScheduling, Preemption and Eviction\\nIn Kubernetes, scheduling refers to making sure that Pods are matched to Nodes so that the\\nkubelet can run them. Preemption is the process of terminating Pods with lower Priority so that', metadata={'source': './PDFS/Concepts.pdf', 'page': 0}),\n",
       " Document(page_content='Pods with higher Priority can schedule on Nodes. Eviction is the process of proactively\\nterminating one or more Pods on resource-starved Nodes.\\nCluster Administration\\nLower-level detail relevant to creating or administering a Kubernetes cluster.\\nWindows in Kubernetes\\nKubernetes supports nodes that run Microsoft Windows.\\nExtending Kubernetes\\nDifferent ways to change the behavior of your Kubernetes cluster.\\nOverview\\nKubernetes is a portable, extensible, open source platform for managing containerized\\nworkloads and services, that facilitates both declarative configuration and automation. It has a\\nlarge, rapidly growing ecosystem. Kubernetes services, support, and tools are widely available.\\nThis page is an overview of Kubernetes.\\nKubernetes is a portable, extensible, open source platform for managing containerized\\nworkloads and services, that facilitates both declarative configuration and automation. It has a\\nlarge, rapidly growing ecosystem. Kubernetes services, support, and tools are widely available.\\nThe name Kubernetes originates from Greek, meaning helmsman or pilot. K8s as an\\nabbreviation results from counting the eight letters between the \"K\" and the \"s\". Google open-\\nsourced the Kubernetes project in 2014. Kubernetes combines over 15 years of Google\\'s\\nexperience  running production workloads at scale with best-of-breed ideas and practices from\\nthe community.\\nGoing back in time\\nLet\\'s take a look at why Kubernetes is so useful by going back in time.\\nDeployment evolution\\nTraditional deployment era:  Early on, organizations ran applications on physical servers.\\nThere was no way to define resource boundaries for applications in a physical server, and this\\ncaused resource allocation issues. For example, if multiple applications run on a physical server,\\nthere can be instances where one application would take up most of the resources, and as a\\nresult, the other applications would underperform. A solution for this would be to run each\\napplication on a different physical server. But this did not scale as resources were underutilized,\\nand it was expensive for organizations to maintain many physical servers.\\nVirtualized deployment era:  As a solution, virtualization was introduced. It allows you to\\nrun multiple Virtual Machines (VMs) on a single physical server\\'s CPU. Virtualization allows\\napplications to be isolated between VMs and provides a level of security as the information of\\none application cannot be freely accessed by another application.', metadata={'source': './PDFS/Concepts.pdf', 'page': 1})]"
      ]
     },
     "execution_count": 20,
     "metadata": {},
     "output_type": "execute_result"
    }
   ],
   "source": [
    "pages[0:2]"
   ]
  },
  {
   "cell_type": "markdown",
   "metadata": {},
   "source": [
    "# PDF내용 분리"
   ]
  },
  {
   "cell_type": "code",
   "execution_count": 3,
   "metadata": {},
   "outputs": [],
   "source": [
    "from langchain.text_splitter import CharacterTextSplitter\n",
    "text_spliter = CharacterTextSplitter(\n",
    "  separator=\"\\n\",\n",
    "  chunk_size=1000,\n",
    "  chunk_overlap=100,\n",
    "  length_function=len,\n",
    ")\n",
    "\n",
    "texts = text_spliter.split_documents(pages)"
   ]
  },
  {
   "cell_type": "code",
   "execution_count": 21,
   "metadata": {},
   "outputs": [
    {
     "data": {
      "text/plain": [
       "[Document(page_content='The Concepts section helps you learn about the parts of the Kubernetes system and the\\nabstractions Kubernetes uses to represent your cluster , and helps you obtain a deeper\\nunderstanding of how Kubernetes works.\\nOverview\\nKubernetes is a portable, extensible, open source platform for managing containerized\\nworkloads and services, that facilitates both declarative configuration and automation. It has a\\nlarge, rapidly growing ecosystem. Kubernetes services, support, and tools are widely available.\\nCluster Architecture\\nThe architectural concepts behind Kubernetes.\\nContainers\\nTechnology for packaging an application along with its runtime dependencies.\\nWorkloads\\nUnderstand Pods, the smallest deployable compute object in Kubernetes, and the higher-level\\nabstractions that help you to run them.\\nServices, Load Balancing, and Networking\\nConcepts and resources behind networking in Kubernetes.\\nStorage\\nWays to provide both long-term and temporary storage to Pods in your cluster.\\nConfiguration', metadata={'source': './PDFS/Concepts.pdf', 'page': 0}),\n",
       " Document(page_content='Storage\\nWays to provide both long-term and temporary storage to Pods in your cluster.\\nConfiguration\\nResources that Kubernetes provides for configuring Pods.\\nSecurity\\nConcepts for keeping your cloud-native workload secure.\\nPolicies\\nManage security and best-practices with policies.\\nScheduling, Preemption and Eviction\\nIn Kubernetes, scheduling refers to making sure that Pods are matched to Nodes so that the\\nkubelet can run them. Preemption is the process of terminating Pods with lower Priority so that', metadata={'source': './PDFS/Concepts.pdf', 'page': 0})]"
      ]
     },
     "execution_count": 21,
     "metadata": {},
     "output_type": "execute_result"
    }
   ],
   "source": [
    "texts[0:2]"
   ]
  },
  {
   "cell_type": "markdown",
   "metadata": {},
   "source": [
    "# Load Embedding"
   ]
  },
  {
   "cell_type": "code",
   "execution_count": 5,
   "metadata": {},
   "outputs": [
    {
     "name": "stdout",
     "output_type": "stream",
     "text": [
      "Embeddings loaded\n"
     ]
    }
   ],
   "source": [
    "from langchain.embeddings import HuggingFaceEmbeddings\n",
    "\n",
    "model_name = \"BAAI/bge-small-en\"\n",
    "model_kwargs = {'device': 'cpu'}\n",
    "encode_kwargs = {'normalize_embeddings': True}\n",
    "embeddings = HuggingFaceEmbeddings(\n",
    "    model_name=model_name,\n",
    "    model_kwargs=model_kwargs,\n",
    "    encode_kwargs=encode_kwargs\n",
    ")"
   ]
  },
  {
   "cell_type": "markdown",
   "metadata": {},
   "source": [
    "# Save embeddings to vectorDB"
   ]
  },
  {
   "cell_type": "code",
   "execution_count": 6,
   "metadata": {},
   "outputs": [],
   "source": [
    "from langchain.vectorstores import FAISS\n",
    "db = FAISS.from_documents(texts, embeddings)"
   ]
  },
  {
   "cell_type": "code",
   "execution_count": 18,
   "metadata": {},
   "outputs": [
    {
     "name": "stdout",
     "output_type": "stream",
     "text": [
      "[Document(page_content='The kubernetes.io/  and k8s.io/  prefixes are reserved for Kubernetes core components.\\nFor example, here\\'s a manifest for a Pod that has the annotation imageregistry: https://\\nhub.docker.com/  :\\napiVersion : v1\\nkind: Pod\\nmetadata :\\n  name : annotations-demo\\n  annotations :\\n    imageregistry : \"https://hub.docker.com/\"\\nspec:\\n  containers :\\n  - name : nginx\\n    image : nginx:1.14.2\\n    ports :\\n    - containerPort : 80• \\n• \\n• \\n• \\n• \\n• \\n•', metadata={'source': './PDFS/Concepts.pdf', 'page': 22}), Document(page_content='deployment, management, introspection, and the like.\\nSyntax and character set\\nAnnotations  are key/value pairs. Valid annotation keys have two segments: an optional prefix\\nand name, separated by a slash ( /). The name segment is required and must be 63 characters or\\nless, beginning and ending with an alphanumeric character ( [a-z0-9A-Z] ) with dashes ( -),\\nunderscores ( _), dots ( .), and alphanumerics between. The prefix is optional. If specified, the\\nprefix must be a DNS subdomain: a series of DNS labels separated by dots ( .), not longer than\\n253 characters in total, followed by a slash ( /).\\nIf the prefix is omitted, the annotation Key is presumed to be private to the user. Automated\\nsystem components (e.g. kube-scheduler , kube-controller-manager , kube-apiserver , kubectl , or\\nother third-party automation) which add annotations to end-user objects must specify a prefix.\\nThe kubernetes.io/  and k8s.io/  prefixes are reserved for Kubernetes core components.', metadata={'source': './PDFS/Concepts.pdf', 'page': 22}), Document(page_content=\"What's next\\nManaging Kubernetes Objects Using Imperative Commands\\nImperative Management of Kubernetes Objects Using Configuration Files\\nDeclarative Management of Kubernetes Objects Using Configuration Files\\nDeclarative Management of Kubernetes Objects Using Kustomize\\nKubectl Command Reference\\nKubectl Book\\nKubernetes API Reference\\nObject Names and IDs\\nEach object  in your cluster has a Name  that is unique for that type of resource. Every\\nKubernetes object also has a UID that is unique across your whole cluster.\\nFor example, you can only have one Pod named myapp-1234  within the same namespace , but\\nyou can have one Pod and one Deployment that are each named myapp-1234 .\\nFor non-unique user-provided attributes, Kubernetes provides labels  and annotations .• \\n• \\n• \\n• \\n• \\n• \\n• \\n• \\n• \\n• \\n•\", metadata={'source': './PDFS/Concepts.pdf', 'page': 10}), Document(page_content=\"# In a namespace\\nkubectl api-resources --namespaced =true\\n# Not in a namespace\\nkubectl api-resources --namespaced =false\\nAutomatic labelling\\nFEATURE STATE:  Kubernetes 1.22 [stable]\\nThe Kubernetes control plane sets an immutable label  kubernetes.io/metadata.name  on all\\nnamespaces. The value of the label is the namespace name.\\nWhat's next\\nLearn more about creating a new namespace .\\nLearn more about deleting a namespace .\\nAnnotations\\nYou can use Kubernetes annotations to attach arbitrary non-identifying metadata to objects .\\nClients such as tools and libraries can retrieve this metadata.\\nAttaching metadata to objects\\nYou can use either labels or annotations to attach metadata to Kubernetes objects. Labels can be\\nused to select objects and to find collections of objects that satisfy certain conditions. In\\ncontrast, annotations are not used to identify and select objects. The metadata in an annotation\", metadata={'source': './PDFS/Concepts.pdf', 'page': 21})]\n",
      "[Document(page_content='<service-name> , it will resolve to the service which is local to a namespace. This is useful for\\nusing the same configuration across multiple namespaces such as Development, Staging and\\nProduction. If you want to reach across namespaces, you need to use the fully qualified domain\\nname (FQDN).\\nAs a result, all namespace names must be valid RFC 1123 DNS labels .\\nWarning:\\nBy creating namespaces with the same name as public top-level domains , Services in these\\nnamespaces can have short DNS names that overlap with public DNS records. Workloads from\\nany namespace performing a DNS lookup without a trailing dot  will be redirected to those\\nservices, taking precedence over public DNS.\\nTo mitigate this, limit privileges for creating namespaces to trusted users. If required, you could\\nadditionally configure third-party security controls, such as admission webhooks , to block\\ncreating any namespace with the name of public TLDs .\\nNot all objects are in a namespace', metadata={'source': './PDFS/Concepts.pdf', 'page': 20}), Document(page_content=\"queries that don't specify a namespace are limited to the Pod's namespace. Access Services in\\nother namespaces by specifying it in the DNS query.\\nFor example, consider a Pod in a test namespace. A data Service is in the prod  namespace.\\nA query for data returns no results, because it uses the Pod's test namespace.\\nA query for data.prod  returns the intended result, because it specifies the namespace.\\nDNS queries may be expanded using the Pod's /etc/resolv.conf . Kubelet configures this file for\\neach Pod. For example, a query for just data may be expanded to data.test.svc.cluster.local . The\\nvalues of the search  option are used to expand queries. To learn more about DNS queries, see \\nthe resolv.conf  manual page.• \\n• \\n• \\n• \\n• \\n• \\n• \\n• \\n• \\n•\", metadata={'source': './PDFS/Concepts.pdf', 'page': 255}), Document(page_content='namespace.svc.cluster-domain.example .\\nPods\\nA/AAAA records\\nIn general a Pod has the following DNS resolution:\\npod-ip-address.my-namespace.pod.cluster-domain.example .1. \\n2.', metadata={'source': './PDFS/Concepts.pdf', 'page': 256}), Document(page_content=\"suffix. For example, a Pod spawned in the default  namespace, will have the DNS suffix \\ndefault.svc.cluster.local . Inside a Windows Pod, you can resolve both \\nkubernetes.default.svc.cluster.local  and kubernetes , but not the partially qualified names\\n(kubernetes.default  or kubernetes.default.svc ).\\nWhat's next\\nFor guidance on administering DNS configurations, check Configure DNS Service• \\n• \\n•\", metadata={'source': './PDFS/Concepts.pdf', 'page': 261})]\n"
     ]
    }
   ],
   "source": [
    "query = \"kubernetes annotations\"\n",
    "docs = db.similarity_search(query)\n",
    "print(docs)\n",
    "\n",
    "query = \"Namespaces and DNS\"\n",
    "docs = db.similarity_search(query)\n",
    "print(docs)"
   ]
  },
  {
   "cell_type": "markdown",
   "metadata": {},
   "source": [
    "# Use Chatbot from verctorDB"
   ]
  },
  {
   "cell_type": "code",
   "execution_count": 7,
   "metadata": {},
   "outputs": [
    {
     "name": "stderr",
     "output_type": "stream",
     "text": [
      "llama_model_loader: loaded meta data with 19 key-value pairs and 291 tensors from ../llama-2-7b-chat.Q5_K_M.gguf (version GGUF V2)\n",
      "llama_model_loader: Dumping metadata keys/values. Note: KV overrides do not apply in this output.\n",
      "llama_model_loader: - kv   0:                       general.architecture str              = llama\n",
      "llama_model_loader: - kv   1:                               general.name str              = LLaMA v2\n",
      "llama_model_loader: - kv   2:                       llama.context_length u32              = 4096\n",
      "llama_model_loader: - kv   3:                     llama.embedding_length u32              = 4096\n",
      "llama_model_loader: - kv   4:                          llama.block_count u32              = 32\n",
      "llama_model_loader: - kv   5:                  llama.feed_forward_length u32              = 11008\n",
      "llama_model_loader: - kv   6:                 llama.rope.dimension_count u32              = 128\n",
      "llama_model_loader: - kv   7:                 llama.attention.head_count u32              = 32\n",
      "llama_model_loader: - kv   8:              llama.attention.head_count_kv u32              = 32\n",
      "llama_model_loader: - kv   9:     llama.attention.layer_norm_rms_epsilon f32              = 0.000001\n",
      "llama_model_loader: - kv  10:                          general.file_type u32              = 17\n",
      "llama_model_loader: - kv  11:                       tokenizer.ggml.model str              = llama\n",
      "llama_model_loader: - kv  12:                      tokenizer.ggml.tokens arr[str,32000]   = [\"<unk>\", \"<s>\", \"</s>\", \"<0x00>\", \"<...\n",
      "llama_model_loader: - kv  13:                      tokenizer.ggml.scores arr[f32,32000]   = [0.000000, 0.000000, 0.000000, 0.0000...\n",
      "llama_model_loader: - kv  14:                  tokenizer.ggml.token_type arr[i32,32000]   = [2, 3, 3, 6, 6, 6, 6, 6, 6, 6, 6, 6, ...\n",
      "llama_model_loader: - kv  15:                tokenizer.ggml.bos_token_id u32              = 1\n",
      "llama_model_loader: - kv  16:                tokenizer.ggml.eos_token_id u32              = 2\n",
      "llama_model_loader: - kv  17:            tokenizer.ggml.unknown_token_id u32              = 0\n",
      "llama_model_loader: - kv  18:               general.quantization_version u32              = 2\n",
      "llama_model_loader: - type  f32:   65 tensors\n",
      "llama_model_loader: - type q5_K:  193 tensors\n",
      "llama_model_loader: - type q6_K:   33 tensors\n",
      "llm_load_vocab: special tokens definition check successful ( 259/32000 ).\n",
      "llm_load_print_meta: format           = GGUF V2\n",
      "llm_load_print_meta: arch             = llama\n",
      "llm_load_print_meta: vocab type       = SPM\n",
      "llm_load_print_meta: n_vocab          = 32000\n",
      "llm_load_print_meta: n_merges         = 0\n",
      "llm_load_print_meta: n_ctx_train      = 4096\n",
      "llm_load_print_meta: n_embd           = 4096\n",
      "llm_load_print_meta: n_head           = 32\n",
      "llm_load_print_meta: n_head_kv        = 32\n",
      "llm_load_print_meta: n_layer          = 32\n",
      "llm_load_print_meta: n_rot            = 128\n",
      "llm_load_print_meta: n_gqa            = 1\n",
      "llm_load_print_meta: f_norm_eps       = 0.0e+00\n",
      "llm_load_print_meta: f_norm_rms_eps   = 1.0e-06\n",
      "llm_load_print_meta: f_clamp_kqv      = 0.0e+00\n",
      "llm_load_print_meta: f_max_alibi_bias = 0.0e+00\n",
      "llm_load_print_meta: n_ff             = 11008\n",
      "llm_load_print_meta: n_expert         = 0\n",
      "llm_load_print_meta: n_expert_used    = 0\n",
      "llm_load_print_meta: rope scaling     = linear\n",
      "llm_load_print_meta: freq_base_train  = 10000.0\n",
      "llm_load_print_meta: freq_scale_train = 1\n",
      "llm_load_print_meta: n_yarn_orig_ctx  = 4096\n",
      "llm_load_print_meta: rope_finetuned   = unknown\n",
      "llm_load_print_meta: model type       = 7B\n",
      "llm_load_print_meta: model ftype      = Q5_K - Medium\n",
      "llm_load_print_meta: model params     = 6.74 B\n",
      "llm_load_print_meta: model size       = 4.45 GiB (5.68 BPW) \n",
      "llm_load_print_meta: general.name     = LLaMA v2\n",
      "llm_load_print_meta: BOS token        = 1 '<s>'\n",
      "llm_load_print_meta: EOS token        = 2 '</s>'\n",
      "llm_load_print_meta: UNK token        = 0 '<unk>'\n",
      "llm_load_print_meta: LF token         = 13 '<0x0A>'\n",
      "llm_load_tensors: ggml ctx size       =    0.11 MiB\n",
      "llm_load_tensors: system memory used  = 4560.98 MiB\n",
      "...................................................................................................\n",
      "llama_new_context_with_model: n_ctx      = 4096\n",
      "llama_new_context_with_model: freq_base  = 10000.0\n",
      "llama_new_context_with_model: freq_scale = 1\n",
      "llama_new_context_with_model: KV self size  = 2048.00 MiB, K (f16): 1024.00 MiB, V (f16): 1024.00 MiB\n",
      "llama_build_graph: non-view tensors processed: 676/676\n",
      "llama_new_context_with_model: compute buffer total size = 7.69 MiB\n",
      "AVX = 1 | AVX2 = 1 | AVX512 = 0 | AVX512_VBMI = 0 | AVX512_VNNI = 0 | FMA = 1 | NEON = 0 | ARM_FMA = 0 | F16C = 1 | FP16_VA = 0 | WASM_SIMD = 0 | BLAS = 0 | SSE3 = 1 | SSSE3 = 1 | VSX = 0 | \n"
     ]
    }
   ],
   "source": [
    "from langchain.llms import LlamaCpp\n",
    "model = LlamaCpp(\n",
    "  model_path=\"../llama-2-7b-chat.Q5_K_M.gguf\",\n",
    "  temperature=0.0,\n",
    "  top_p=1,\n",
    "  max_tokens=8192,\n",
    "  verbose=True,\n",
    "  n_ctx=4096,\n",
    ")"
   ]
  },
  {
   "cell_type": "code",
   "execution_count": 10,
   "metadata": {},
   "outputs": [],
   "source": [
    "from langchain.prompts import PromptTemplate\n",
    "system_prompt_template = \"\"\"You're a Kubernetes expert. You understand the question and can generate a good kubernetes manifest.\n",
    "Question: {question}\"\"\"\n",
    "\n",
    "prompt = PromptTemplate(template=system_prompt_template, input_variables=[\"question\"])"
   ]
  },
  {
   "cell_type": "code",
   "execution_count": 11,
   "metadata": {},
   "outputs": [],
   "source": [
    "from langchain_core.output_parsers import StrOutputParser\n",
    "output_parser = StrOutputParser()"
   ]
  },
  {
   "cell_type": "code",
   "execution_count": 13,
   "metadata": {},
   "outputs": [],
   "source": [
    "from langchain_core.runnables import RunnablePassthrough\n",
    "chain = {\"question\": RunnablePassthrough()} | prompt | model | output_parser"
   ]
  }
 ],
 "metadata": {
  "kernelspec": {
   "display_name": "venv",
   "language": "python",
   "name": "python3"
  },
  "language_info": {
   "codemirror_mode": {
    "name": "ipython",
    "version": 3
   },
   "file_extension": ".py",
   "mimetype": "text/x-python",
   "name": "python",
   "nbconvert_exporter": "python",
   "pygments_lexer": "ipython3",
   "version": "3.11.0"
  }
 },
 "nbformat": 4,
 "nbformat_minor": 2
}
